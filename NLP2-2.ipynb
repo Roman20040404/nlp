{
  "nbformat": 4,
  "nbformat_minor": 0,
  "metadata": {
    "colab": {
      "provenance": []
    },
    "kernelspec": {
      "name": "python3",
      "display_name": "Python 3"
    },
    "language_info": {
      "name": "python"
    },
    "widgets": {
      "application/vnd.jupyter.widget-state+json": {
        "f7cd6b9641d0499594a4560b47407bed": {
          "model_module": "@jupyter-widgets/controls",
          "model_name": "HBoxModel",
          "model_module_version": "1.5.0",
          "state": {
            "_dom_classes": [],
            "_model_module": "@jupyter-widgets/controls",
            "_model_module_version": "1.5.0",
            "_model_name": "HBoxModel",
            "_view_count": null,
            "_view_module": "@jupyter-widgets/controls",
            "_view_module_version": "1.5.0",
            "_view_name": "HBoxView",
            "box_style": "",
            "children": [
              "IPY_MODEL_b9712959d01042a1a1ef2ef89b54bf72",
              "IPY_MODEL_83fded4ae1e242138e0533694f6e0a1a",
              "IPY_MODEL_ab872db5714f43a1a2eb4056b4c972d3"
            ],
            "layout": "IPY_MODEL_6e0f1b6909014ed18b859c9c1d1f50f6"
          }
        },
        "b9712959d01042a1a1ef2ef89b54bf72": {
          "model_module": "@jupyter-widgets/controls",
          "model_name": "HTMLModel",
          "model_module_version": "1.5.0",
          "state": {
            "_dom_classes": [],
            "_model_module": "@jupyter-widgets/controls",
            "_model_module_version": "1.5.0",
            "_model_name": "HTMLModel",
            "_view_count": null,
            "_view_module": "@jupyter-widgets/controls",
            "_view_module_version": "1.5.0",
            "_view_name": "HTMLView",
            "description": "",
            "description_tooltip": null,
            "layout": "IPY_MODEL_da0471ebaec34b00a4dee9afd8bf6b9d",
            "placeholder": "​",
            "style": "IPY_MODEL_9a597ab67dfc40f78b24b8ca272e0e51",
            "value": "Downloading https://raw.githubusercontent.com/stanfordnlp/stanza-resources/main/resources_1.6.0.json: "
          }
        },
        "83fded4ae1e242138e0533694f6e0a1a": {
          "model_module": "@jupyter-widgets/controls",
          "model_name": "FloatProgressModel",
          "model_module_version": "1.5.0",
          "state": {
            "_dom_classes": [],
            "_model_module": "@jupyter-widgets/controls",
            "_model_module_version": "1.5.0",
            "_model_name": "FloatProgressModel",
            "_view_count": null,
            "_view_module": "@jupyter-widgets/controls",
            "_view_module_version": "1.5.0",
            "_view_name": "ProgressView",
            "bar_style": "success",
            "description": "",
            "description_tooltip": null,
            "layout": "IPY_MODEL_fcbd27b2fc3b4562be98e494fd62c3ac",
            "max": 45749,
            "min": 0,
            "orientation": "horizontal",
            "style": "IPY_MODEL_9532d2790e5741a9b1d856ef2a92b757",
            "value": 45749
          }
        },
        "ab872db5714f43a1a2eb4056b4c972d3": {
          "model_module": "@jupyter-widgets/controls",
          "model_name": "HTMLModel",
          "model_module_version": "1.5.0",
          "state": {
            "_dom_classes": [],
            "_model_module": "@jupyter-widgets/controls",
            "_model_module_version": "1.5.0",
            "_model_name": "HTMLModel",
            "_view_count": null,
            "_view_module": "@jupyter-widgets/controls",
            "_view_module_version": "1.5.0",
            "_view_name": "HTMLView",
            "description": "",
            "description_tooltip": null,
            "layout": "IPY_MODEL_becdc10db9d14407915fa51b36e75ffa",
            "placeholder": "​",
            "style": "IPY_MODEL_16add3dbe6a647fc82ceba76905d03c6",
            "value": " 367k/? [00:00&lt;00:00, 12.3MB/s]"
          }
        },
        "6e0f1b6909014ed18b859c9c1d1f50f6": {
          "model_module": "@jupyter-widgets/base",
          "model_name": "LayoutModel",
          "model_module_version": "1.2.0",
          "state": {
            "_model_module": "@jupyter-widgets/base",
            "_model_module_version": "1.2.0",
            "_model_name": "LayoutModel",
            "_view_count": null,
            "_view_module": "@jupyter-widgets/base",
            "_view_module_version": "1.2.0",
            "_view_name": "LayoutView",
            "align_content": null,
            "align_items": null,
            "align_self": null,
            "border": null,
            "bottom": null,
            "display": null,
            "flex": null,
            "flex_flow": null,
            "grid_area": null,
            "grid_auto_columns": null,
            "grid_auto_flow": null,
            "grid_auto_rows": null,
            "grid_column": null,
            "grid_gap": null,
            "grid_row": null,
            "grid_template_areas": null,
            "grid_template_columns": null,
            "grid_template_rows": null,
            "height": null,
            "justify_content": null,
            "justify_items": null,
            "left": null,
            "margin": null,
            "max_height": null,
            "max_width": null,
            "min_height": null,
            "min_width": null,
            "object_fit": null,
            "object_position": null,
            "order": null,
            "overflow": null,
            "overflow_x": null,
            "overflow_y": null,
            "padding": null,
            "right": null,
            "top": null,
            "visibility": null,
            "width": null
          }
        },
        "da0471ebaec34b00a4dee9afd8bf6b9d": {
          "model_module": "@jupyter-widgets/base",
          "model_name": "LayoutModel",
          "model_module_version": "1.2.0",
          "state": {
            "_model_module": "@jupyter-widgets/base",
            "_model_module_version": "1.2.0",
            "_model_name": "LayoutModel",
            "_view_count": null,
            "_view_module": "@jupyter-widgets/base",
            "_view_module_version": "1.2.0",
            "_view_name": "LayoutView",
            "align_content": null,
            "align_items": null,
            "align_self": null,
            "border": null,
            "bottom": null,
            "display": null,
            "flex": null,
            "flex_flow": null,
            "grid_area": null,
            "grid_auto_columns": null,
            "grid_auto_flow": null,
            "grid_auto_rows": null,
            "grid_column": null,
            "grid_gap": null,
            "grid_row": null,
            "grid_template_areas": null,
            "grid_template_columns": null,
            "grid_template_rows": null,
            "height": null,
            "justify_content": null,
            "justify_items": null,
            "left": null,
            "margin": null,
            "max_height": null,
            "max_width": null,
            "min_height": null,
            "min_width": null,
            "object_fit": null,
            "object_position": null,
            "order": null,
            "overflow": null,
            "overflow_x": null,
            "overflow_y": null,
            "padding": null,
            "right": null,
            "top": null,
            "visibility": null,
            "width": null
          }
        },
        "9a597ab67dfc40f78b24b8ca272e0e51": {
          "model_module": "@jupyter-widgets/controls",
          "model_name": "DescriptionStyleModel",
          "model_module_version": "1.5.0",
          "state": {
            "_model_module": "@jupyter-widgets/controls",
            "_model_module_version": "1.5.0",
            "_model_name": "DescriptionStyleModel",
            "_view_count": null,
            "_view_module": "@jupyter-widgets/base",
            "_view_module_version": "1.2.0",
            "_view_name": "StyleView",
            "description_width": ""
          }
        },
        "fcbd27b2fc3b4562be98e494fd62c3ac": {
          "model_module": "@jupyter-widgets/base",
          "model_name": "LayoutModel",
          "model_module_version": "1.2.0",
          "state": {
            "_model_module": "@jupyter-widgets/base",
            "_model_module_version": "1.2.0",
            "_model_name": "LayoutModel",
            "_view_count": null,
            "_view_module": "@jupyter-widgets/base",
            "_view_module_version": "1.2.0",
            "_view_name": "LayoutView",
            "align_content": null,
            "align_items": null,
            "align_self": null,
            "border": null,
            "bottom": null,
            "display": null,
            "flex": null,
            "flex_flow": null,
            "grid_area": null,
            "grid_auto_columns": null,
            "grid_auto_flow": null,
            "grid_auto_rows": null,
            "grid_column": null,
            "grid_gap": null,
            "grid_row": null,
            "grid_template_areas": null,
            "grid_template_columns": null,
            "grid_template_rows": null,
            "height": null,
            "justify_content": null,
            "justify_items": null,
            "left": null,
            "margin": null,
            "max_height": null,
            "max_width": null,
            "min_height": null,
            "min_width": null,
            "object_fit": null,
            "object_position": null,
            "order": null,
            "overflow": null,
            "overflow_x": null,
            "overflow_y": null,
            "padding": null,
            "right": null,
            "top": null,
            "visibility": null,
            "width": null
          }
        },
        "9532d2790e5741a9b1d856ef2a92b757": {
          "model_module": "@jupyter-widgets/controls",
          "model_name": "ProgressStyleModel",
          "model_module_version": "1.5.0",
          "state": {
            "_model_module": "@jupyter-widgets/controls",
            "_model_module_version": "1.5.0",
            "_model_name": "ProgressStyleModel",
            "_view_count": null,
            "_view_module": "@jupyter-widgets/base",
            "_view_module_version": "1.2.0",
            "_view_name": "StyleView",
            "bar_color": null,
            "description_width": ""
          }
        },
        "becdc10db9d14407915fa51b36e75ffa": {
          "model_module": "@jupyter-widgets/base",
          "model_name": "LayoutModel",
          "model_module_version": "1.2.0",
          "state": {
            "_model_module": "@jupyter-widgets/base",
            "_model_module_version": "1.2.0",
            "_model_name": "LayoutModel",
            "_view_count": null,
            "_view_module": "@jupyter-widgets/base",
            "_view_module_version": "1.2.0",
            "_view_name": "LayoutView",
            "align_content": null,
            "align_items": null,
            "align_self": null,
            "border": null,
            "bottom": null,
            "display": null,
            "flex": null,
            "flex_flow": null,
            "grid_area": null,
            "grid_auto_columns": null,
            "grid_auto_flow": null,
            "grid_auto_rows": null,
            "grid_column": null,
            "grid_gap": null,
            "grid_row": null,
            "grid_template_areas": null,
            "grid_template_columns": null,
            "grid_template_rows": null,
            "height": null,
            "justify_content": null,
            "justify_items": null,
            "left": null,
            "margin": null,
            "max_height": null,
            "max_width": null,
            "min_height": null,
            "min_width": null,
            "object_fit": null,
            "object_position": null,
            "order": null,
            "overflow": null,
            "overflow_x": null,
            "overflow_y": null,
            "padding": null,
            "right": null,
            "top": null,
            "visibility": null,
            "width": null
          }
        },
        "16add3dbe6a647fc82ceba76905d03c6": {
          "model_module": "@jupyter-widgets/controls",
          "model_name": "DescriptionStyleModel",
          "model_module_version": "1.5.0",
          "state": {
            "_model_module": "@jupyter-widgets/controls",
            "_model_module_version": "1.5.0",
            "_model_name": "DescriptionStyleModel",
            "_view_count": null,
            "_view_module": "@jupyter-widgets/base",
            "_view_module_version": "1.2.0",
            "_view_name": "StyleView",
            "description_width": ""
          }
        }
      }
    }
  },
  "cells": [
    {
      "cell_type": "markdown",
      "source": [
        "**Сложные слова**\n",
        "\n",
        "1) нет PRED #может быть еще и как междометие, в тексте это предикатив\n",
        "\n",
        "2) самого NPRO #либо как неопределенное местоимение (по семантике), либо как прилагательное (по склонению)\n",
        "\n",
        "3) многие NPRO #может быть как прилагательное (склоняется так же), может быть как субстантивированное существительное\n",
        "\n",
        "4) все-таки PRCL #из-за дефиса может быть неверно интерпретировано\n",
        "\n",
        "5) надо PRED #может быть еще как наречие по морфологической схожести\n",
        "\n",
        "6) любых ADJF #либо как неопределенное местоимение (по семантике), либо как прилагательное (по склонению)\n",
        "\n",
        "7) тоже ADVB #в зависимости от контекста может быть частицей, союзом и наречием\n",
        "\n",
        "8) других NPRO #либо как неопределенное местоимение (по семантике), либо как прилагательное (по склонению)\n",
        "\n",
        "9) переполненном ADJF #либо как форма глагола 'переполнить', либо как прилагательное переполненный"
      ],
      "metadata": {
        "id": "wDMi8sFU6KW7"
      }
    },
    {
      "cell_type": "code",
      "execution_count": 50,
      "metadata": {
        "id": "reJaJaZ7A_VW"
      },
      "outputs": [],
      "source": [
        "from string import punctuation\n",
        "from pymorphy2 import MorphAnalyzer\n",
        "morph = MorphAnalyzer()\n",
        "from sklearn.metrics import accuracy_score\n",
        "import stanza\n",
        "from pymystem3 import Mystem\n",
        "m = Mystem()\n",
        "from nltk import ngrams"
      ]
    },
    {
      "cell_type": "code",
      "source": [
        "def tokenization(feedback): #токенизация, очищение от знаков препинания\n",
        "  liste = []\n",
        "  for i in feedback.split():\n",
        "    i = i.rstrip(punctuation)\n",
        "    if i.isalpha() or '-' in i:\n",
        "      p = morph.parse(i.lower())[0].tag.POS\n",
        "      liste.append((i.lower(), p))\n",
        "  return liste"
      ],
      "metadata": {
        "id": "mvQFra3lPQBl"
      },
      "execution_count": 15,
      "outputs": []
    },
    {
      "cell_type": "code",
      "source": [
        "ref = [] #файл с размеченными трудными случаями\n",
        "with open('reference.txt', encoding='utf-8') as f:\n",
        "  d = f.readlines()\n",
        "  for i in d:\n",
        "    word = i.strip().split()[0]\n",
        "    pos = i.strip().split()[1]\n",
        "    ref.append(tuple((word, pos)))"
      ],
      "metadata": {
        "id": "RwltSz8JW3jr"
      },
      "execution_count": 49,
      "outputs": []
    },
    {
      "cell_type": "code",
      "source": [
        "corpus = []\n",
        "with open('corpus.txt', encoding='utf-8') as f: #файл с текстом\n",
        "  d = f.readlines()\n",
        "  for i in d:\n",
        "    corpus.append(i.strip())\n",
        "results = []\n",
        "for i in corpus:\n",
        "  slov = tokenization(i)\n",
        "  for j in slov:\n",
        "    for k in ref:\n",
        "      if j[0] == k[0]:\n",
        "        if (j[0], accuracy_score(j, k)) not in results:\n",
        "          results.append((j[0], accuracy_score(j, k)))\n",
        "for i in results: #pymorphy\n",
        "  print(i)"
      ],
      "metadata": {
        "colab": {
          "base_uri": "https://localhost:8080/"
        },
        "id": "gKgpqdrVBq8x",
        "outputId": "24d575fe-b817-4e7f-d3de-ec592f1ed136"
      },
      "execution_count": 47,
      "outputs": [
        {
          "output_type": "stream",
          "name": "stdout",
          "text": [
            "('нет', 1.0)\n",
            "('самого', 0.5)\n",
            "('многие', 0.5)\n",
            "('все-таки', 1.0)\n",
            "('тоже', 0.5)\n",
            "('надо', 1.0)\n",
            "('любых', 1.0)\n",
            "('других', 0.5)\n",
            "('переполненном', 1.0)\n"
          ]
        }
      ]
    },
    {
      "cell_type": "code",
      "source": [
        "st_res = []\n",
        "pos_d = {'ADJ':'ADJF', 'PART':'PRCL', 'PRON':'NPRO',\n",
        "         'ADV':'ADVB', 'VERB':'VERB', 'NUM':'NUMR', 'DET':'ADJF'}\n",
        "nlp = stanza.Pipeline('ru', processors='tokenize, pos')\n",
        "for i in corpus:\n",
        "  doc = nlp(i)\n",
        "  sent_list = [sent.text for sent in doc.sentences]\n",
        "  for sent in doc.sentences:\n",
        "    for word in sent.words:\n",
        "      for k in ref:\n",
        "        if k[0] == word.text.lower():\n",
        "          compare = (word.text.lower(), pos_d[word.upos])\n",
        "          if (k[0], accuracy_score(compare, k)) not in st_res:\n",
        "            st_res.append((k[0], accuracy_score(compare, k)))\n",
        "for i in st_res: #stanza\n",
        "  print(i)"
      ],
      "metadata": {
        "colab": {
          "base_uri": "https://localhost:8080/",
          "height": 471,
          "referenced_widgets": [
            "f7cd6b9641d0499594a4560b47407bed",
            "b9712959d01042a1a1ef2ef89b54bf72",
            "83fded4ae1e242138e0533694f6e0a1a",
            "ab872db5714f43a1a2eb4056b4c972d3",
            "6e0f1b6909014ed18b859c9c1d1f50f6",
            "da0471ebaec34b00a4dee9afd8bf6b9d",
            "9a597ab67dfc40f78b24b8ca272e0e51",
            "fcbd27b2fc3b4562be98e494fd62c3ac",
            "9532d2790e5741a9b1d856ef2a92b757",
            "becdc10db9d14407915fa51b36e75ffa",
            "16add3dbe6a647fc82ceba76905d03c6"
          ]
        },
        "id": "COBENl_d1keN",
        "outputId": "b3805f8b-a89c-49fa-bc28-03c55279e6e7"
      },
      "execution_count": 46,
      "outputs": [
        {
          "output_type": "stream",
          "name": "stderr",
          "text": [
            "INFO:stanza:Checking for updates to resources.json in case models have been updated.  Note: this behavior can be turned off with download_method=None or download_method=DownloadMethod.REUSE_RESOURCES\n"
          ]
        },
        {
          "output_type": "display_data",
          "data": {
            "text/plain": [
              "Downloading https://raw.githubusercontent.com/stanfordnlp/stanza-resources/main/resources_1.6.0.json:   0%|   …"
            ],
            "application/vnd.jupyter.widget-view+json": {
              "version_major": 2,
              "version_minor": 0,
              "model_id": "f7cd6b9641d0499594a4560b47407bed"
            }
          },
          "metadata": {}
        },
        {
          "output_type": "stream",
          "name": "stderr",
          "text": [
            "INFO:stanza:Loading these models for language: ru (Russian):\n",
            "================================\n",
            "| Processor | Package          |\n",
            "--------------------------------\n",
            "| tokenize  | syntagrus        |\n",
            "| pos       | syntagrus_charlm |\n",
            "================================\n",
            "\n",
            "INFO:stanza:Using device: cpu\n",
            "INFO:stanza:Loading: tokenize\n",
            "INFO:stanza:Loading: pos\n",
            "INFO:stanza:Done loading processors!\n"
          ]
        },
        {
          "output_type": "stream",
          "name": "stdout",
          "text": [
            "('нет', 0.5)\n",
            "('самого', 0.5)\n",
            "('многие', 0.5)\n",
            "('все-таки', 1.0)\n",
            "('тоже', 0.5)\n",
            "('надо', 0.5)\n",
            "('любых', 1.0)\n",
            "('других', 0.5)\n",
            "('переполненном', 0.5)\n"
          ]
        }
      ]
    },
    {
      "cell_type": "code",
      "source": [
        "myst_res = []\n",
        "myst_dict = {'A':'ADJF', 'PART':'PRCL',\n",
        "         'ADV':'ADVB', 'V':'VERB', 'NUM':'NUMR', 'DET':'ADJF', 'APRO':'ADJF',\n",
        "             'SPRO':'NOUN'}\n",
        "for i in corpus:\n",
        "  analys = m.analyze(i)\n",
        "  for word in analys:\n",
        "    if 'analysis' in word:\n",
        "      gr = word['analysis'][0]['gr']\n",
        "      pos = gr.split('=')[0].split(',')[0]\n",
        "      for j in ref:\n",
        "        if j[0] == word['text'].lower():\n",
        "          comp = (word['text'].lower(), myst_dict[pos])\n",
        "          if (j[0], accuracy_score(comp, j)) not in myst_res:\n",
        "              myst_res.append((j[0], accuracy_score(comp, j)))\n",
        "for i in myst_res: #mystem\n",
        "  print(i)"
      ],
      "metadata": {
        "colab": {
          "base_uri": "https://localhost:8080/"
        },
        "id": "_i48SGPQpftU",
        "outputId": "e7a01b28-cf09-4549-99d2-f810ff23126d"
      },
      "execution_count": 48,
      "outputs": [
        {
          "output_type": "stream",
          "name": "stdout",
          "text": [
            "('нет', 0.5)\n",
            "('самого', 0.5)\n",
            "('многие', 1.0)\n",
            "('все-таки', 1.0)\n",
            "('тоже', 0.5)\n",
            "('надо', 0.5)\n",
            "('любых', 1.0)\n",
            "('других', 0.5)\n",
            "('переполненном', 1.0)\n"
          ]
        }
      ]
    },
    {
      "cell_type": "markdown",
      "source": [
        "Из трех попробованных теггеров точнее всего определил pos pymorphy (5 совпадений)"
      ],
      "metadata": {
        "id": "4LHENVL9-R0W"
      }
    }
  ]
}