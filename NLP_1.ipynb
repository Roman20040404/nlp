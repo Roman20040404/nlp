{
  "nbformat": 4,
  "nbformat_minor": 0,
  "metadata": {
    "colab": {
      "provenance": []
    },
    "kernelspec": {
      "name": "python3",
      "display_name": "Python 3"
    },
    "language_info": {
      "name": "python"
    }
  },
  "cells": [
    {
      "cell_type": "code",
      "source": [
        "from bs4 import BeautifulSoup\n",
        "from string import punctuation\n",
        "from pymorphy2 import MorphAnalyzer\n",
        "morph = MorphAnalyzer()\n",
        "import requests\n",
        "session = requests.session()"
      ],
      "metadata": {
        "id": "koz1R6wRfEmC"
      },
      "execution_count": 2,
      "outputs": []
    },
    {
      "cell_type": "code",
      "source": [
        "stw = [] #cловарь стоп-слов\n",
        "with open('stop-ru.txt', encoding='utf-8') as f:\n",
        "  d = f.readlines()\n",
        "  for i in d:\n",
        "    stw.append(i.strip())"
      ],
      "metadata": {
        "id": "58s72gUN3uiX"
      },
      "execution_count": 3,
      "outputs": []
    },
    {
      "cell_type": "code",
      "source": [
        "def tokenization(feedback): #токенизация, очищение от знаков препинания и лемматизация\n",
        "  liste = []\n",
        "  for i in feedback.split():\n",
        "    i = i.strip(punctuation)\n",
        "    if i.isalpha():\n",
        "      i = morph.parse(i.lower())[0].normal_form\n",
        "      if i not in stw:\n",
        "        liste.append(i.lower())\n",
        "  return liste"
      ],
      "metadata": {
        "id": "S3SytBnVP6pH"
      },
      "execution_count": 4,
      "outputs": []
    },
    {
      "cell_type": "code",
      "source": [
        "pos_list = [] #список слов, относящихся положительных отзывов\n",
        "neg_list = [] #список слов, относящихся отрицательных отзывов\n",
        "\n",
        "url = 'https://irecommend.ru/content/purina-one-dlya-domashnikh-koshek?ft%5Br%5D=1'\n",
        "req = session.get(url).text\n",
        "soup = BeautifulSoup(req)\n",
        "reviews = soup.find_all('span', {'class':\"reviewTeaserText\"})\n",
        "for i in reviews:\n",
        "  pos_list.extend(tokenization(i.text))\n",
        "url1 = \"https://irecommend.ru/content/purina-one-dlya-domashnikh-koshek?ft%5Br%5D=0\"\n",
        "req1 = session.get(url1).text\n",
        "soup1 = BeautifulSoup(req1)\n",
        "reviews1 = soup1.find_all('span', {'class':\"reviewTeaserText\"})\n",
        "for i in reviews1:\n",
        "  neg_list.extend(tokenization(i.text))\n",
        "url1_2 = \"https://irecommend.ru/content/royal-canin-babycat-34-dlya-kotyat-ot-1-do-4-mesyatsev?ft%5Br%5D=0\"\n",
        "req2 = session.get(url1_2).text\n",
        "soup2 = BeautifulSoup(req2)\n",
        "reviews2 = soup2.find_all('span', {'class':\"reviewTeaserText\"})\n",
        "for i in reviews2:\n",
        "  neg_list.extend(tokenization(i.text))\n",
        "url1_3 = \"https://irecommend.ru/content/dlya-britantsev?ft%5Br%5D=0\"\n",
        "req3 = session.get(url1_3).text\n",
        "soup3 = BeautifulSoup(req3)\n",
        "reviews3 = soup3.find_all('span', {'class':\"reviewTeaserText\"})\n",
        "for i in reviews3:\n",
        "  neg_list.extend(tokenization(i.text))"
      ],
      "metadata": {
        "id": "eacIJT9Cb2kW"
      },
      "execution_count": 18,
      "outputs": []
    },
    {
      "cell_type": "code",
      "source": [
        "freq = dict() #словарь частотности положительных слов\n",
        "freq1 = dict() #словарь частотности отрицательных слов\n",
        "for i in pos_list:\n",
        "  freq[i] = freq.setdefault(i, 0) + 1\n",
        "for i in neg_list:\n",
        "  freq1[i] = freq1.setdefault(i, 0) + 1"
      ],
      "metadata": {
        "id": "5mPeBbym0k6v"
      },
      "execution_count": 14,
      "outputs": []
    },
    {
      "cell_type": "code",
      "source": [
        "set_pos = set(freq.keys())\n",
        "set_neg = set(freq1.keys())\n",
        "only_pos = set_pos - set_neg\n",
        "only_neg = set_neg - set_pos\n",
        "slov_pos = [] #только в списке положительных\n",
        "slov_neg = [] #только в списке отрицательных\n",
        "for i in only_pos:\n",
        "  if freq[i] > 2:\n",
        "    slov_pos.append(i)\n",
        "for i in only_neg:\n",
        "  if freq1[i] > 2:\n",
        "    slov_neg.append(i)\n",
        "print(slov_pos)\n",
        "print(slov_neg)"
      ],
      "metadata": {
        "id": "dXCLHAfxyGa_",
        "colab": {
          "base_uri": "https://localhost:8080/"
        },
        "outputId": "2bd91dff-a375-440e-d25c-228122a3f91e"
      },
      "execution_count": 24,
      "outputs": [
        {
          "output_type": "stream",
          "name": "stdout",
          "text": [
            "['гранула', 'неплохой', 'содержание', 'злак', 'кг', 'эконом', 'попробовать', 'начаться', 'привередливый', 'капризный', 'прийти', 'бюджетный', 'выбор', 'питание', 'цельный', 'подходить', 'приятный', 'хорёк', 'приветствовать', 'дворовый']\n",
            "['завести', 'вислоухий', 'месячный', 'заводчица', 'кормление', 'канин', 'беременная', 'маркет', 'начало', 'сфинкс', 'роять', 'прийтись', 'частый', 'ребёнок', 'заводчик']\n"
          ]
        }
      ]
    },
    {
      "cell_type": "code",
      "source": [
        "def tone_define(feedback): #функция, определяющая тон\n",
        "  tok_f = []\n",
        "  for i in feedback.split():\n",
        "    tok_f.extend(tokenization(i))\n",
        "  k = 0\n",
        "  for i in set(tok_f): #считаем число общих элементов\n",
        "    for j in slov_pos:\n",
        "      if i == j:\n",
        "        k += 1\n",
        "  coef_jac_p = k / (len(tok_f) + len(slov_pos) - k) #c помощью коэффициента \\\n",
        "  k = 0 #Жаккара считаем, насколько похожи множества\n",
        "  for i in set(tok_f):\n",
        "    for j in slov_neg:\n",
        "      if i == j:\n",
        "        k += 1\n",
        "  coef_jac_n = k / (len(tok_f) + len(slov_neg) - k)\n",
        "  if coef_jac_p > coef_jac_n:\n",
        "    return 'Отзыв похож на положительный'\n",
        "  elif coef_jac_p < coef_jac_n:\n",
        "    return 'Отзыв похож на отрицательный'\n",
        "  else:\n",
        "    return 'Нельзя однозначно сказать'"
      ],
      "metadata": {
        "id": "HnJBbRC9_31n"
      },
      "execution_count": 20,
      "outputs": []
    },
    {
      "cell_type": "code",
      "source": [
        "test = []\n",
        "link_tn = \"https://irecommend.ru/content/korm-dlya-koshek-perfect-fit-dlya-sterilizovannykh-kotov-i-koshek?ft%5Br%5D=0\"\n",
        "requ = session.get(link_tn).text\n",
        "soup_t = BeautifulSoup(requ)\n",
        "reviews_t = soup_t.find_all('span', {'class':\"reviewTeaserText\"})\n",
        "k = 0 #берем сначала 5 отрицательных отзывов и добавляем их в список test\n",
        "for i in reviews_t:\n",
        "  if k != 5:\n",
        "    test.append(i.text)\n",
        "    k += 1\n",
        "  else:\n",
        "    break\n",
        "link_tp = \"https://irecommend.ru/content/korm-dlya-koshek-perfect-fit-dlya-sterilizovannykh-kotov-i-koshek?ft%5Br%5D=1\"\n",
        "requ1 = session.get(link_tp).text\n",
        "soup_tp = BeautifulSoup(requ1)\n",
        "reviews_tp = soup_tp.find_all('span', {'class':\"reviewTeaserText\"})\n",
        "p = 0 #теперь берем 5 положительных отзывов и добавляем их в test\n",
        "for i in reviews_tp:\n",
        "  if p != 5:\n",
        "    test.append(i.text)\n",
        "    p += 1\n",
        "  else:\n",
        "    break\n",
        "for i in test:\n",
        "  print(tone_define(i))"
      ],
      "metadata": {
        "colab": {
          "base_uri": "https://localhost:8080/"
        },
        "id": "6LclSOumZ0ju",
        "outputId": "c8c363fc-4fbd-4868-beff-fa62d24d3826"
      },
      "execution_count": 25,
      "outputs": [
        {
          "output_type": "stream",
          "name": "stdout",
          "text": [
            "Нельзя однозначно сказать\n",
            "Отзыв похож на положительный\n",
            "Отзыв похож на отрицательный\n",
            "Нельзя однозначно сказать\n",
            "Отзыв похож на положительный\n",
            "Отзыв похож на положительный\n",
            "Отзыв похож на положительный\n",
            "Нельзя однозначно сказать\n",
            "Отзыв похож на отрицательный\n",
            "Отзыв похож на отрицательный\n"
          ]
        }
      ]
    },
    {
      "cell_type": "markdown",
      "source": [
        "Первые пять отзывов отрицательные, а вторые пять - положительные. Правильно определены только 3 из 10. Еще 3 невозможно определить, поскольку, возможно, в них нет слов из словаря положительных/отрицательных слов.\n",
        "Для улучшения работы функции необходимы более крупные словари (нужно взять больше данных); в данном случае необходимо было бы получить доступ к полным текстам отзывов."
      ],
      "metadata": {
        "id": "ivBdIXSTj1th"
      }
    }
  ]
}